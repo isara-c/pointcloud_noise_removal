{
 "cells": [
  {
   "cell_type": "markdown",
   "metadata": {},
   "source": [
    "## TLS"
   ]
  },
  {
   "cell_type": "code",
   "execution_count": 1,
   "metadata": {},
   "outputs": [],
   "source": [
    "import open3d \n",
    "import numpy as np\n",
    "import matplotlib.pyplot as plt\n",
    "import copy\n",
    "import os\n",
    "import sys\n",
    "import math"
   ]
  },
  {
   "cell_type": "code",
   "execution_count": 2,
   "metadata": {},
   "outputs": [],
   "source": [
    "import open3d as o3d\n",
    "def display_inlier_outlier(cloud, ind):\n",
    "    inlier_cloud = cloud.select_by_index(ind)\n",
    "    outlier_cloud = cloud.select_by_index(ind, invert=True)\n",
    "\n",
    "    print(\"Showing outliers (red) and inliers (gray): \")\n",
    "    outlier_cloud.paint_uniform_color([1, 0, 0])\n",
    "    inlier_cloud.paint_uniform_color([0.8, 0.8, 0.8])\n",
    "    o3d.visualization.draw_geometries([inlier_cloud, outlier_cloud])"
   ]
  },
  {
   "cell_type": "code",
   "execution_count": 6,
   "metadata": {},
   "outputs": [],
   "source": [
    "def export_pc(cloud, ind, filename1, filename2):\n",
    "    inlier_cloud = cloud.select_by_index(ind)\n",
    "    outlier_cloud = cloud.select_by_index(ind, invert=True)\n",
    "    \n",
    "    o3d.io.write_point_cloud(filename1, inlier_cloud, write_ascii=False, compressed=False, print_progress=True)\n",
    "    o3d.io.write_point_cloud(filename2, outlier_cloud, write_ascii=False, compressed=False, print_progress=True)"
   ]
  },
  {
   "cell_type": "code",
   "execution_count": 14,
   "metadata": {},
   "outputs": [
    {
     "name": "stdout",
     "output_type": "stream",
     "text": [
      "Load a ply point cloud, print it, and render it\n",
      "PointCloud with 11113998 points.\n",
      "Downsample the point cloud with a voxel of 0.02\n",
      "Every 5th points are selected\n",
      "Statistical oulier removal\n",
      "Radius oulier removal\n"
     ]
    }
   ],
   "source": [
    "if __name__ == \"__main__\":\n",
    "    print(\"Load a ply point cloud, print it, and render it\")\n",
    "    pc_path = r'./Area3a_clean.ply'\n",
    "    pcd = o3d.io.read_point_cloud(pc_path)\n",
    "    print(pcd)  #show number of point cloud\n",
    "#     o3d.visualization.draw_geometries([pcd])\n",
    "\n",
    "    print(\"Downsample the point cloud with a voxel of 0.02\")\n",
    "    voxel_down_pcd = pcd.voxel_down_sample(voxel_size=0.02)\n",
    "#     o3d.visualization.draw_geometries([voxel_down_pcd])\n",
    "\n",
    "    print(\"Every 5th points are selected\")\n",
    "    uni_down_pcd = pcd.uniform_down_sample(every_k_points=5)\n",
    "#     o3d.visualization.draw_geometries([uni_down_pcd])\n",
    "\n",
    "    print(\"Statistical oulier removal\")\n",
    "    cl, ind = voxel_down_pcd.remove_statistical_outlier(nb_neighbors=10,\n",
    "                                                        std_ratio=0.75)\n",
    "#     display_inlier_outlier(voxel_down_pcd, ind)\n",
    "#     o3d.visualization.draw_geometries(voxel_down_pcd.select_by_index(ind))\n",
    "    export_pc(voxel_down_pcd, ind, 'Statistical_inliner.ply', 'Statistical_outliner.ply')\n",
    "\n",
    "    \n",
    "    print(\"Radius oulier removal\")\n",
    "    cl, ind = voxel_down_pcd.remove_radius_outlier(nb_points=40, radius=0.9)\n",
    "#     display_inlier_outlier(voxel_down_pcd, ind)\n",
    "#     o3d.visualization.draw_geometries(voxel_down_pcd.select_by_index(ind))\n",
    "    export_pc(voxel_down_pcd, ind, 'Radius_inliner.ply', 'Radius_outliner.ply')"
   ]
  }
 ],
 "metadata": {
  "kernelspec": {
   "display_name": "Python 3",
   "language": "python",
   "name": "python3"
  },
  "language_info": {
   "codemirror_mode": {
    "name": "ipython",
    "version": 3
   },
   "file_extension": ".py",
   "mimetype": "text/x-python",
   "name": "python",
   "nbconvert_exporter": "python",
   "pygments_lexer": "ipython3",
   "version": "3.6.13"
  }
 },
 "nbformat": 4,
 "nbformat_minor": 4
}
